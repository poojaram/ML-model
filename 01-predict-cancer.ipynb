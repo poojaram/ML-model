{
 "cells": [
  {
   "cell_type": "markdown",
   "metadata": {},
   "source": [
    "# Predicting Breast Cancer\n",
    "In this exercise, we'll explore a valuable application of Machine Learning: predicting whether or not tumors are **benign** or **malignant**. We'll use the (real) [Wisconsin Breast Cancer dataset](https://archive.ics.uci.edu/ml/machine-learning-databases/breast-cancer-wisconsin/wdbc.names), that is included in the `sklearn` library. Through this exercise, you'll learn the steps associated with implementing a Machine Learning algorithm."
   ]
  },
  {
   "cell_type": "markdown",
   "metadata": {},
   "source": [
    "## Set up"
   ]
  },
  {
   "cell_type": "code",
   "execution_count": 2,
   "metadata": {},
   "outputs": [],
   "source": [
    "# Import libraries\n",
    "import pandas as pd\n",
    "import numpy as np\n",
    "import matplotlib.pyplot as plt\n",
    "\n",
    "# Import the dataset from sklearn\n",
    "from sklearn.datasets import load_breast_cancer\n",
    "data = load_breast_cancer()\n",
    "\n",
    "# Convert to Pandas dataframe for some exploration\n",
    "data_pd = pd.DataFrame(columns=data.feature_names, data=data.data)\n",
    "data_pd.columns = [c.replace(' ', '_') for c in data_pd.columns] # replace spaces\n",
    "data_pd['outcome'] = data.target"
   ]
  },
  {
   "cell_type": "code",
   "execution_count": 3,
   "metadata": {},
   "outputs": [],
   "source": [
    "# Flip benign and malignant codes (currently 0 for malignant, 1 for benign)\n",
    "data_pd.outcome = np.where(data_pd.outcome == 1, 0, 1)"
   ]
  },
  {
   "cell_type": "markdown",
   "metadata": {},
   "source": [
    "## Brief data exploration"
   ]
  },
  {
   "cell_type": "code",
   "execution_count": 4,
   "metadata": {},
   "outputs": [
    {
     "data": {
      "text/plain": [
       "smoothness_error          -0.067016\n",
       "mean_fractal_dimension    -0.012838\n",
       "texture_error             -0.008303\n",
       "symmetry_error            -0.006522\n",
       "fractal_dimension_error    0.077972\n",
       "concavity_error            0.253730\n",
       "compactness_error          0.292999\n",
       "worst_fractal_dimension    0.323872\n",
       "mean_symmetry              0.330499\n",
       "mean_smoothness            0.358560\n",
       "concave_points_error       0.408042\n",
       "mean_texture               0.415185\n",
       "worst_symmetry             0.416294\n",
       "worst_smoothness           0.421465\n",
       "worst_texture              0.456903\n",
       "area_error                 0.548236\n",
       "perimeter_error            0.556141\n",
       "radius_error               0.567134\n",
       "worst_compactness          0.590998\n",
       "mean_compactness           0.596534\n",
       "worst_concavity            0.659610\n",
       "mean_concavity             0.696360\n",
       "mean_area                  0.708984\n",
       "mean_radius                0.730029\n",
       "worst_area                 0.733825\n",
       "mean_perimeter             0.742636\n",
       "worst_radius               0.776454\n",
       "mean_concave_points        0.776614\n",
       "worst_perimeter            0.782914\n",
       "worst_concave_points       0.793566\n",
       "outcome                    1.000000\n",
       "Name: outcome, dtype: float64"
      ]
     },
     "execution_count": 4,
     "metadata": {},
     "output_type": "execute_result"
    }
   ],
   "source": [
    "# What is the correlation between each column and the outcome of interest\n",
    "corrs = data_pd.corr().outcome\n",
    "corrs.sort_values()"
   ]
  },
  {
   "cell_type": "code",
   "execution_count": 5,
   "metadata": {},
   "outputs": [
    {
     "data": {
      "image/png": "[encoded data removed]",
      "text/plain": [
       "<Figure size 432x288 with 1 Axes>"
      ]
     },
     "metadata": {},
     "output_type": "display_data"
    }
   ],
   "source": [
    "# Distribution of outcomes\n",
    "plt.hist(data_pd.outcome)\n",
    "plt.xticks((0, 1), (\"Benign\", \"Malignent\"))\n",
    "plt.xlabel(\"Cancer Status\")\n",
    "plt.ylabel(\"Count\")\n",
    "plt.title(\"Distribution of Cancer Status in the Dataset\")\n",
    "plt.show()"
   ]
  },
  {
   "cell_type": "code",
   "execution_count": 6,
   "metadata": {},
   "outputs": [
    {
     "data": {
      "image/png": "[encoded data removed]",
      "text/plain": [
       "<Figure size 432x288 with 1 Axes>"
      ]
     },
     "metadata": {},
     "output_type": "display_data"
    }
   ],
   "source": [
    "# What is the distribution of \"worst_concave_points\" (for benign, malignant)?\n",
    "malignant = data_pd[data_pd.outcome == 1]\n",
    "benign = data_pd[data_pd.outcome != 1]\n",
    "\n",
    "# Draw histograms of the distribution\n",
    "plt.hist(malignant[\"worst_concave_points\"], alpha=0.5, label='Malignant', color=\"red\")\n",
    "plt.hist(benign[\"worst_concave_points\"], alpha=0.5, label='Benign', color=\"blue\")\n",
    "plt.legend(loc='upper right')\n",
    "plt.xlabel(\"Worst Concave Points in Tumor\")\n",
    "plt.ylabel(\"Count\")\n",
    "plt.title(\"Distribution of Worst Concave Points (by cancer status)\")\n",
    "plt.show()"
   ]
  },
  {
   "cell_type": "markdown",
   "metadata": {},
   "source": [
    "## Our First Machine Learning Model: A Decision Tree\n",
    "Without doing any pre-processing (or considering the idea of training/testing data), let's try implementing our first machine learning model, a **Decision Tree**. Like any model, it will involve a few steps (to be elaborated upon as we go):\n",
    "\n",
    "- **Import** your model from `sklearn`\n",
    "- **Create** your model with the desired parameters\n",
    "- **Fit** your model to the data\n",
    "- **Assess** performance of the model"
   ]
  },
  {
   "cell_type": "code",
   "execution_count": 2,
   "metadata": {},
   "outputs": [],
   "source": [
    "# Import your model, a decision tree classifier  \n",
    "# (typically imported at the beginning of your script)\n"
   ]
  },
  {
   "cell_type": "code",
   "execution_count": 3,
   "metadata": {},
   "outputs": [],
   "source": [
    "# Create a classifier, then fit the model to your data (creating a decision tree)\n",
    "# To ensure consistent results, we can use the random_state parameter"
   ]
  },
  {
   "cell_type": "code",
   "execution_count": 4,
   "metadata": {},
   "outputs": [],
   "source": [
    "# Assess the fit of the model by generating predictions using your data\n",
    "# Then calculate the accuracy (percentage of the time that the predictions equal the outcome)"
   ]
  },
  {
   "cell_type": "markdown",
   "metadata": {},
   "source": [
    "## Training and Testing Data\n",
    "In actual machine learning applications, the intention is to **predict unknown values**. In the example above, you were able to perfectly predict the values because _your model has seen them_. To simulate a _real world_ application, it's necessary to **hide testing data from your model**, and then use your hidden (**test**) data to assess your performance. This can easily be achieved using the `test_train_split` method from `sklearn`. We'll augment our machine learning process to now include splitting our dataset into testing and training data:\n",
    "\n",
    "\n",
    "\n",
    "- **Import** your model\n",
    "- **Create** your model\n",
    "- <span style=\"color:red\">**Split** data into training and testing data</span>\n",
    "- **Fit** your model to **training** data\n",
    "- **Assess** performance of the model on your **test** data"
   ]
  },
  {
   "cell_type": "code",
   "execution_count": 5,
   "metadata": {},
   "outputs": [],
   "source": [
    "# Split your data into test and training data with a test size of 30% (.3)\n",
    "from sklearn.model_selection import train_test_split # typically done at the start"
   ]
  },
  {
   "cell_type": "code",
   "execution_count": 6,
   "metadata": {},
   "outputs": [],
   "source": [
    "# Fit the classifier -- from above -- using our (training) data "
   ]
  },
  {
   "cell_type": "code",
   "execution_count": 7,
   "metadata": {},
   "outputs": [],
   "source": [
    "# Assess the model using our (test) data. \n",
    "# You can import and use the `accuracy_score` fucntion rather than manually computing it\n",
    "from sklearn.metrics import accuracy_score"
   ]
  },
  {
   "cell_type": "code",
   "execution_count": 169,
   "metadata": {},
   "outputs": [],
   "source": [
    "# Not required: use graphviz to visualize your tree\n",
    "#import graphviz\n",
    "from sklearn import tree \n",
    "tree.export_graphviz(tree_clf, \n",
    "                     feature_names=data.feature_names, \n",
    "                     class_names=['Benign', 'Malig.'], \n",
    "                     out_file=\"mytree.dot\"\n",
    ")\n",
    "# To convert, you'll need to install graphviz: conda install grahpviz\n",
    "# Then on your terminal: dot -Tpng mytree.dot -o mytree.png"
   ]
  },
  {
   "cell_type": "markdown",
   "metadata": {},
   "source": [
    "## Our Second Model: K-Nearest Neighbors\n",
    "K-Nearest Neighbors is a very simple algorithm. To identify the classification of any observation (row), we simply need to look at the class of K similar points. This introduces two new questions:\n",
    "\n",
    "1. How do we decide on the number of neighbors to use for classifying any given point (K)?\n",
    "2. How do we calculate distance when our features (columns) are in different units?\n",
    "\n",
    "We'll address each of these challenges in the following sections. However, we'll start by simply implementing the algorithm (which will follow the same process as other algorithms). "
   ]
  },
  {
   "cell_type": "code",
   "execution_count": 8,
   "metadata": {},
   "outputs": [],
   "source": [
    "# Import and create a KNN classifier that uses the 4 nearest points\n",
    "from sklearn.neighbors import KNeighborsClassifier"
   ]
  },
  {
   "cell_type": "code",
   "execution_count": 9,
   "metadata": {},
   "outputs": [],
   "source": [
    "# Fit the model to our (training) data, and use it to predict on our *test data*"
   ]
  },
  {
   "cell_type": "code",
   "execution_count": 10,
   "metadata": {},
   "outputs": [],
   "source": [
    "# Assess the accuracy of the model"
   ]
  },
  {
   "cell_type": "markdown",
   "metadata": {},
   "source": [
    "### Picking the number of neighbors (K)\n",
    "In the above section, we arbitrarily used the number 4 for K. We want to use a data driven process for picking this value. Because we **don't look at the test data** until the end, we need another strategy for assessing model parameters. To do this, we can further split the training data into a **validation set** (think of this as a mini-test set), which we can use to search for the best value of **K**. Our process now involves:\n",
    "\n",
    "\n",
    "- **Import** your model\n",
    "- **Create** your model\n",
    "- **Split** data into training and testing data\n",
    "- <span style=\"color:red\">**Split** _training_ data into (smaller) training and **validation** data</span>\n",
    "- **Fit** your model to (smaller) **training** data\n",
    "- <span style=\"color:red\">**Assess** performance of the model on your **validation** data to tweak parameters</span>\n",
    "- **Assess** performance of the model on your **test** data\n"
   ]
  },
  {
   "cell_type": "code",
   "execution_count": 11,
   "metadata": {},
   "outputs": [],
   "source": [
    "# Let's crete a validation set by sampling 20% (.2) out of the *training* data\n",
    "# We can use the `train_test_set` function as before\n"
   ]
  },
  {
   "cell_type": "code",
   "execution_count": 12,
   "metadata": {},
   "outputs": [],
   "source": [
    "# Let's assess accuracies of K from 1 through 10. To do this, loop through values of K, \n",
    "# and in each loop:\n",
    "# - Create a new classifier using K as the number of neighbors, \n",
    "# - Fit the classifier to the (small) training data (without validation data)\n",
    "# - Generate a set of predictions using the validation data\n",
    "# - Compute the accuracy of your model on your validation data\n"
   ]
  },
  {
   "cell_type": "code",
   "execution_count": 13,
   "metadata": {},
   "outputs": [],
   "source": [
    "# Now that you know the best value of K based on your *validation* data, \n",
    "# Run the KNN with the optimal value of K on the *test* data to assess your performance\n"
   ]
  },
  {
   "cell_type": "markdown",
   "metadata": {},
   "source": [
    "## Cross Validation\n",
    "In the above example, we created a **single** validation dataset from our training data. However, because this sampling is **random**, we may have gotten a certain subset of the training set simply **by chance**. The most popular strategy for solving this issue (and therefore better leveraging the information in our _training data_) is called **cross validation**. \n",
    "\n",
    "There are a number of strategies for cross-validation, but the philosophy is the same: split the training data into a (smaller) training and a validation set **multiple times**. \n",
    "\n",
    "For example, a popular approach is the **K Fold** cross validation which splits the data into K folds (_not_ to be confused with the __K__ from KNN). Then, each _fold_ of the data is used as the validation set one time. This allows each observation to appear in the validation set one time. You then assess model performance for each fold, and pick your best model based on the **average** performance across the folds (see diagram below from [this book](https://jakevdp.github.io/PythonDataScienceHandbook/05.03-hyperparameters-and-model-validation.html#Model-validation-via-cross-validation)). \n",
    "\n",
    "![K fold validation diagram](https://jakevdp.github.io/PythonDataScienceHandbook/figures/05.03-5-fold-CV.png)\n",
    "\n",
    "Luckily, the `sklearn` toolkit has a variety of built-in methods for performing this process. This is really only a minor change to our process:\n",
    "\n",
    "- **Import** your model\n",
    "- **Create** your model\n",
    "- **Split** data into training and testing data\n",
    "- <span style=\"text-decoration:line-through\">**Split** _training_ data into (smaller) training and **validation** data</span> (accomplished in new step below)\n",
    "- <span style=\"color:red\">**Fit** and **assess** your model using `cross_val_score` to fit the model on different _folds_ of validation data</span>\n",
    "- <span style=\"text-decoration:line-through\">**Assess** performance of the model on your **validation** data to tweak parameters</span> (accomplished in new step above)\n",
    "- **Assess** performance of the model on your **test** data"
   ]
  },
  {
   "cell_type": "code",
   "execution_count": 14,
   "metadata": {},
   "outputs": [],
   "source": [
    "# Use cross validation (`cross_val_score`) to test a classifier \n",
    "# across 10 different splits of the data\n",
    "# Use a K value of 3 for your KNN.\n",
    "# Notice the huge variation in performance across folds!\n",
    "from sklearn.model_selection import KFold\n",
    "from sklearn.model_selection import cross_val_score"
   ]
  },
  {
   "cell_type": "markdown",
   "metadata": {},
   "source": [
    "## Grid Search\n",
    "Unfortunately, the above code only runs a **single model** across __K__ different _folds_ of the data. What we really want to do is iterate over our parameter space (the number of different **neighbors**) for each of the folds. While this would be simple enough to write as a loop, we can easily use the **grid search** functionality built into the `sklearn` toolkit. The benefit is that grid search will seach over a _grid_ of **all parameters** of interest regarding your model (while we only have one current parameter to optimize, we could have many). This will allow you to quickly identify the optimal set of parameters for your model. \n",
    "\n",
    "\n",
    "- **Import** your model\n",
    "- **Create** your model\n",
    "- **Split** data into training and testing data\n",
    "- <span style=\"text-decoration:line-through\">**Fit** and **assess** your model using `cross_val_score` to fit the model on different _folds_ of validation data</span>\n",
    "- <span style=\"color:red\">**Fit** and **assess** models using `grid_search` to fit multiple models using **different parameters** on different _folds_ of validation data</span>\n",
    "- <span style=\"text-decoration:line-through\">**Assess** performance of the model on your **validation** data to tweak parameters</span> (accomplished in new step above)\n",
    "- **Assess** performance of the (best) model on your **test** data"
   ]
  },
  {
   "cell_type": "code",
   "execution_count": 15,
   "metadata": {},
   "outputs": [],
   "source": [
    "# Import the `GridSearchCV` model, and specify a grid of parameters\n",
    "# This will try all possible combination of parameters in a brute force way\n",
    "# And, it will run cross validation on each combination of parameters\n",
    "from sklearn.model_selection import GridSearchCV"
   ]
  },
  {
   "cell_type": "code",
   "execution_count": 16,
   "metadata": {},
   "outputs": [],
   "source": [
    "# Create a grid search estimator for your KNN classifier\n",
    "# When fit, this will search the parameter grid using cross validation"
   ]
  },
  {
   "cell_type": "code",
   "execution_count": 17,
   "metadata": {},
   "outputs": [],
   "source": [
    "# Fit the grid search to your training data"
   ]
  },
  {
   "cell_type": "code",
   "execution_count": 18,
   "metadata": {},
   "outputs": [],
   "source": [
    "# Predict and assess performance on your **test** data\n"
   ]
  },
  {
   "cell_type": "code",
   "execution_count": 19,
   "metadata": {},
   "outputs": [],
   "source": [
    "# Visualze performance across neighbors N values"
   ]
  },
  {
   "cell_type": "markdown",
   "metadata": {},
   "source": [
    "## Normalizing Data\n",
    "Because KNN uses a distance based metric to compute similarity, it's important to **normalize** each column to the same scale before running the algorithm. Note, some rule based estimators (like decision trees) aren't sensitive to feature scale (and don't need to be normalized). For example, we can use a `MinMaxScaler` that subracts the minimum, and divides by the difference between the minimum and the maximum of each column.\n",
    "\n",
    "In order to not **leak information** from out test data into our training data, it's important to normalize our data **after** splitting. We'll worry about integrating this into our process after experimenting with it in the section below."
   ]
  },
  {
   "cell_type": "code",
   "execution_count": 20,
   "metadata": {},
   "outputs": [],
   "source": [
    "# Manually scale (pre-process) our *training features* (not the outcome!) data"
   ]
  },
  {
   "cell_type": "code",
   "execution_count": 21,
   "metadata": {},
   "outputs": [],
   "source": [
    "# Alternatively, we could use a built in Scaler\n",
    "from sklearn.preprocessing import MinMaxScaler"
   ]
  },
  {
   "cell_type": "code",
   "execution_count": 22,
   "metadata": {},
   "outputs": [],
   "source": [
    "# Fit a knn classifier with the scaled training data"
   ]
  },
  {
   "cell_type": "code",
   "execution_count": 23,
   "metadata": {},
   "outputs": [],
   "source": [
    "# Generate predictions using *scaled test data*"
   ]
  },
  {
   "cell_type": "markdown",
   "metadata": {},
   "source": [
    "## Making Pipelines\n",
    "Our final challenge is determining how to integrate the data scaling into our cross validation process. For **each set** of possible model parameters, we need to:\n",
    "\n",
    "- **Split** our (training) data into training and validation sets\n",
    "- **Normalize**/scale each training set\n",
    "- **Assess** the model on all validation sets\n",
    "\n",
    "\n",
    "While we could write the iterators to do this ourselves, this is a problem that is already solved using **Pipelines**. The `GridSearchCV` class is structured to take as an argument a _pipeline_ object, which includes each transformation or calculation you want to perform on your data. For example\n",
    "\n",
    "```python\n",
    "# Define scaler, classifier, and pipeline to use\n",
    "scaler = MinMaxScaler()\n",
    "knn_clf = KNeighborsClassifier()\n",
    "pipe = make_pipeline(scaler, knn_clf)\n",
    "\n",
    "# Define grid for pipeline (indicates which arguments are for which classes)\n",
    "param_grid = {'kneighborsclassifier__n_neighbors': [1, 3, 5, 10]}\n",
    "\n",
    "# Search through and perform cross validation\n",
    "grid = GridSearchCV(pipe, param_grid)\n",
    "```\n",
    "\n",
    "Our final process will be:\n",
    "\n",
    "- **Import** your model\n",
    "- **Create** your model\n",
    "- **Split** data into training and testing data\n",
    "- **Create** your normalization (scaling) function\n",
    "- **Define** a **pipeline** that will implement your pre-processing and your model\n",
    "- **Fit** and **assess** models using `grid_search` to fit multiple models using **different parameters** on different _folds_ of validation data</span>\n",
    "- **Assess** performance of the (best) model on your **test** data"
   ]
  },
  {
   "cell_type": "code",
   "execution_count": 24,
   "metadata": {},
   "outputs": [],
   "source": [
    "# Import pipeline, and define your pipeline that will\n",
    "# - Transform you data using a MinMaxScaler\n",
    "# - Fit a KNN classifier\n",
    "from sklearn.pipeline import make_pipeline"
   ]
  },
  {
   "cell_type": "code",
   "execution_count": 25,
   "metadata": {},
   "outputs": [],
   "source": [
    "# Pass your pipeline to a grid search, specifying a set of neighbors to assess"
   ]
  }
 ],
 "metadata": {
  "kernelspec": {
   "display_name": "Python 3",
   "language": "python",
   "name": "python3"
  },
  "language_info": {
   "codemirror_mode": {
    "name": "ipython",
    "version": 3
   },
   "file_extension": ".py",
   "mimetype": "text/x-python",
   "name": "python",
   "nbconvert_exporter": "python",
   "pygments_lexer": "ipython3",
   "version": "3.6.5"
  }
 },
 "nbformat": 4,
 "nbformat_minor": 2
}
